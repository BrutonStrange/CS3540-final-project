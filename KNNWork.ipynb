{
 "cells": [
  {
   "cell_type": "code",
   "execution_count": 22,
   "metadata": {},
   "outputs": [],
   "source": [
    "from PIL import Image\n",
    "import numpy as np\n",
    "import os\n",
    "import matplotlib.pyplot as plt\n",
    "from sklearn.neighbors import KNeighborsClassifier\n",
    "from sklearn.metrics import accuracy_score\n",
    "\n",
    "def greyscale_from_array(im, brightening_factor=1):\n",
    "    #stack the three channels side by side\n",
    "    rgb = np.hstack((im[::,::,0:1:],im[::,::,1:2:],im[::,::,2:3:]))\n",
    "\n",
    "    #change each list of one integer to just that integer\n",
    "    rgb_fixed = np.zeros((rgb.shape[0], rgb.shape[1]))\n",
    "    for i in range(rgb.shape[0]):\n",
    "        for j in range(rgb.shape[1]):\n",
    "            rgb_fixed[i][j] = rgb[i][j][0]*brightening_factor\n",
    "\n",
    "    #return the greyscale image\n",
    "    return rgb_fixed\n",
    "\n",
    "def load_images_to_dict(folder=\"train\"):\n",
    "    #for switching between \"train\", \"test\", and \"valid\" folders\n",
    "    path = (folder + \"/\" + folder)\n",
    "\n",
    "    #makes a dictionary mapping species to all the files in that folder\n",
    "    directories = {}\n",
    "    for species_file in os.listdir(path):\n",
    "        directories[species_file] = os.listdir(path  + \"/\" + species_file)\n",
    "\n",
    "    #makes a dictionary mapping species to arrays for each image in that folder\n",
    "    #looks like images[species] = [MxNarray, MxNarray, ..., MxNarray]\n",
    "    images = {}\n",
    "    for directory in directories.keys():\n",
    "        images[directory] = []\n",
    "        for file in os.listdir(path + \"/\" + directory): \n",
    "            images[directory].append(np.array(Image.open(path + \"/\" + directory + \"/\" + file).convert(\"L\")))\n",
    "\n",
    "    #return that dictionary\n",
    "    return images\n",
    "\n",
    "train_images = load_images_to_dict()\n",
    "test_images = load_images_to_dict(\"test\")"
   ]
  },
  {
   "cell_type": "code",
   "execution_count": 26,
   "metadata": {},
   "outputs": [],
   "source": [
    "train_group = train_images[\"Gauva\"]\n",
    "test_group = test_images[\"Gauva\"]\n",
    "\n",
    "X = []\n",
    "y = []\n",
    "\n",
    "for key, value in train_images.items():\n",
    "    for image in value:\n",
    "        X.append(image)\n",
    "        if key == \"Guava\":\n",
    "            y.append(1)\n",
    "        else:\n",
    "            y.append(0)\n",
    "\n",
    "X_test = []\n",
    "y_test = []\n",
    "for key, value in test_images.items():\n",
    "    for image in value:\n",
    "        X_test.append(image)\n",
    "        if key == \"Guava\":\n",
    "            y_test.append(1)\n",
    "        else:\n",
    "            y_test.append(0)\n",
    "\n",
    "\n",
    "y = np.array(y)\n",
    "X = np.array(X)\n",
    "X = np.reshape(X, (X.shape[0], X.shape[1]*X.shape[2]))\n",
    "\n",
    "y_test = np.array(y_test)\n",
    "X_test = np.array(X_test)\n",
    "X_test = np.reshape(X_test, (X_test.shape[0], X_test.shape[1]*X_test.shape[2]))\n",
    "\n",
    "neighbors = np.arange(1, 110)\n",
    "test_accuracy = np.empty(len(neighbors))\n",
    "train_accuracy = np.empty(len(neighbors))\n",
    "# Loop over K values\n",
    "for i, k in enumerate(neighbors):\n",
    "    # KNN classifier\n",
    "    knn = KNeighborsClassifier(n_neighbors=k)\n",
    "    knn.fit(X, y)\n",
    "    train_accuracy[i] = knn.score(X, y)\n",
    "    test_accuracy[i] = knn.score(X_test, y_test)\n",
    "    # Predictions on the test set\n",
    "    predictions = knn.predict(X_test)\n",
    "    # Accuracy of the model\n",
    "    accuracy = accuracy_score(y_test, predictions)\n",
    "# for i in range(y_test.shape[0]):\n",
    "#     print(str(predictions[i]) + \" is really: \" + str(y_test[i]))"
   ]
  },
  {
   "cell_type": "code",
   "execution_count": 27,
   "metadata": {},
   "outputs": [
    {
     "data": {
      "image/png": "[encoded data removed]",
      "text/plain": [
       "<Figure size 640x480 with 1 Axes>"
      ]
     },
     "metadata": {},
     "output_type": "display_data"
    }
   ],
   "source": [
    "# Plot \n",
    "plt.plot(neighbors, test_accuracy, label = \"Testing dataset Accuracy\")\n",
    "plt.plot(neighbors, train_accuracy, label = \"Training dataset Accuracy\")\n",
    "plt.legend()\n",
    "plt.xlabel(\"n_neighbors\")\n",
    "plt.ylabel(\"Accuracy\")\n",
    "plt.show()"
   ]
  }
 ],
 "metadata": {
  "kernelspec": {
   "display_name": "base",
   "language": "python",
   "name": "python3"
  },
  "language_info": {
   "codemirror_mode": {
    "name": "ipython",
    "version": 3
   },
   "file_extension": ".py",
   "mimetype": "text/x-python",
   "name": "python",
   "nbconvert_exporter": "python",
   "pygments_lexer": "ipython3",
   "version": "3.11.4"
  }
 },
 "nbformat": 4,
 "nbformat_minor": 2
}
